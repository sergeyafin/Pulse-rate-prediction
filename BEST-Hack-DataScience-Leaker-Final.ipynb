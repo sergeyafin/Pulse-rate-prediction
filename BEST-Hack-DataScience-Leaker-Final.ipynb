{
 "cells": [
  {
   "cell_type": "code",
   "execution_count": 1,
   "metadata": {
    "id": "DY9Y6fskBT8Q"
   },
   "outputs": [
    {
     "name": "stderr",
     "output_type": "stream",
     "text": [
      "ERROR: Could not find a version that satisfies the requirement cv2 (from versions: none)\n",
      "ERROR: No matching distribution found for cv2\n"
     ]
    }
   ],
   "source": [
    "!pip install cv2"
   ]
  },
  {
   "cell_type": "code",
   "execution_count": 30,
   "metadata": {
    "id": "JCRqs9CMlj5q"
   },
   "outputs": [],
   "source": [
    "import cv2     # for capturing videos\n",
    "import math   # for mathematical operations\n",
    "import matplotlib.pyplot as plt    # for plotting the images\n",
    "%matplotlib inline\n",
    "import pandas as pd\n",
    "#from keras.preprocessing import image   # for preprocessing the images\n",
    "import numpy as np    # for mathematical operations\n",
    "#from keras.utils import np_utils\n",
    "from skimage.transform import resize \n",
    "import pandas  # for resizing images\n",
    "import sklearn\n",
    "from sklearn.metrics import (mean_squared_error, r2_score)\n",
    "from sklearn.model_selection import cross_val_score\n",
    "from sklearn.ensemble import RandomForestRegressor\n",
    "import numpy as np\n",
    "import matplotlib.pyplot as plt\n",
    "#from tensorflow.keras.datasets import mnist         # библиотека базы выборок Mnist\n",
    "#from tensorflow import keras\n",
    "#from tensorflow.keras.layers import Dense, Flatten, Dropout, Conv2D, MaxPooling2D"
   ]
  },
  {
   "cell_type": "markdown",
   "metadata": {},
   "source": [
    "Скачать видео можно здесь: https://drive.google.com/drive/folders/1lzqlMsURXZdsTj5g0agS74o2RSOjUM0H?usp=sharing"
   ]
  },
  {
   "cell_type": "code",
   "execution_count": 173,
   "metadata": {
    "id": "ouE47v1cBTuw"
   },
   "outputs": [],
   "source": [
    "def get_frames(name,frame_rate=1/2):#Возвращает список кадров видео\n",
    "    frames=[]\n",
    "    cap = cv2.VideoCapture(name)\n",
    "    frameRate = cap.get(5)*frame_rate #frame rate\n",
    "    while(cap.isOpened()):\n",
    "        frameId = cap.get(1) #current frame number\n",
    "        ret, frame = cap.read()\n",
    "        if (ret != True):\n",
    "            break\n",
    "        if (frameId % math.floor(frameRate) == 0):\n",
    "            frames.append(frame)\n",
    "\n",
    "    cap.release()\n",
    "    print (f\"Done with {name}! count = {len(frames)}\")\n",
    "    return frames"
   ]
  },
  {
   "cell_type": "code",
   "execution_count": null,
   "metadata": {},
   "outputs": [],
   "source": []
  },
  {
   "cell_type": "code",
   "execution_count": 4,
   "metadata": {},
   "outputs": [
    {
     "name": "stdout",
     "output_type": "stream",
     "text": [
      "Done with видео по 1 шаблону пульс 90-80.MOV! count = 133\n",
      "Done with спокойное дыхание пульс 90.MOV! count = 148\n",
      "Done with видео по 4 шаблону пульс 154.MOV! count = 106\n",
      "Done with пульс 90-80 видео по 2 шаблону.MOV! count = 135\n",
      "Done with пульс 116-90.MOV! count = 139\n",
      "Done with пульс 142-108 3-4 шаблон.MOV! count = 101\n",
      "Done with пульс 160-150 4 шаблон.MOV! count = 114\n"
     ]
    }
   ],
   "source": [
    "part1 = get_frames('видео по 1 шаблону пульс 90-80.MOV')\n",
    "part2 = get_frames('спокойное дыхание пульс 90.MOV')\n",
    "part3 = get_frames('видео по 4 шаблону пульс 154.MOV')\n",
    "part4 = get_frames('пульс 90-80 видео по 2 шаблону.MOV')\n",
    "part5 = get_frames('пульс 116-90.MOV')\n",
    "part6 = get_frames('пульс 142-108 3-4 шаблон.MOV')\n",
    "part7 = get_frames('пульс 160-150 4 шаблон.MOV')"
   ]
  },
  {
   "cell_type": "code",
   "execution_count": 5,
   "metadata": {
    "id": "Qjcd7Ern4J_f"
   },
   "outputs": [],
   "source": [
    "def get_photos_of_body(frames,index_of_deleted,name):#Возвращает обрезанные фотографии\n",
    "    index=[]\n",
    "    k=-1\n",
    "    photos_of_body = [] \n",
    "    for img in frames:\n",
    "        k=k+1\n",
    "        \n",
    "        face_cascade = cv2.CascadeClassifier(\"haarcascade_frontalface_default.xml\")\n",
    "        faces = face_cascade.detectMultiScale(gray, 1.7, 5)#ищет лица\n",
    "        if len(faces) != 1:#если лица не найдены или их больше 1, то запишем в index номер этого кадра\n",
    "            index.append(k)\n",
    "            continue\n",
    "        for x, y, width, height in faces:\n",
    "            up_scale = 1.5\n",
    "            down_scale=9\n",
    "            yx_scale=2  \n",
    "            #обрежем часть изображения вокруг лица\n",
    "            body = img[int((2-up_scale)*y):int(height+y*down_scale),:]#высота изображения\n",
    "           \n",
    "            new_width=int(len(body)/yx_scale)\n",
    "            new_x=int(x+width/2-new_width/2)\n",
    "            body=body[:,new_x:new_x+new_width]#длина изображения равна 1/2 от высоты\n",
    "            \n",
    "            gray = cv2.cvtColor(body, cv2.COLOR_BGR2GRAY)#переводим цветное фото в черно-белое\n",
    "        photos_of_body.append(gray)\n",
    "    index_of_deleted[name]=index\n",
    "    return photos_of_body,index_of_deleted"
   ]
  },
  {
   "cell_type": "code",
   "execution_count": 6,
   "metadata": {},
   "outputs": [
    {
     "name": "stdout",
     "output_type": "stream",
     "text": [
      "{'1': [], '2': [0, 1, 2, 5, 6, 7, 9, 10, 11, 13, 29, 30, 31], '3': [7, 8, 9, 16, 23, 83, 96], '4': [], '5': [30], '6': [1, 11, 36, 64, 83, 85], '7': [2, 113]}\n"
     ]
    }
   ],
   "source": [
    "index_of_deleted={}#кадры, на которых не найдены лица\n",
    "body1,index_of_deleted=get_photos_of_body(part1,index_of_deleted,'1')\n",
    "body2,index_of_deleted=get_photos_of_body(part2,index_of_deleted,'2')\n",
    "body3,index_of_deleted=get_photos_of_body(part3,index_of_deleted,'3')\n",
    "body4,index_of_deleted=get_photos_of_body(part4,index_of_deleted,'4')\n",
    "body5,index_of_deleted=get_photos_of_body(part5,index_of_deleted,'5')\n",
    "body6,index_of_deleted=get_photos_of_body(part6,index_of_deleted,'6')\n",
    "body7,index_of_deleted=get_photos_of_body(part7,index_of_deleted,'7')\n",
    "print(index_of_deleted)"
   ]
  },
  {
   "cell_type": "code",
   "execution_count": null,
   "metadata": {},
   "outputs": [],
   "source": []
  },
  {
   "cell_type": "code",
   "execution_count": 7,
   "metadata": {},
   "outputs": [
    {
     "data": {
      "text/plain": [
       "(506, 253)"
      ]
     },
     "execution_count": 7,
     "metadata": {},
     "output_type": "execute_result"
    }
   ],
   "source": [
    "len(body1[1]),len(body1[1][0])"
   ]
  },
  {
   "cell_type": "code",
   "execution_count": 8,
   "metadata": {},
   "outputs": [],
   "source": [
    "def make_timeline(bodys,index_of_deleted,name):#добавляет к фото кадры предыдущих 4 секунд\n",
    "    resized=[]\n",
    "    resized_copy=[]\n",
    "    timeline=[]\n",
    "    index=[]\n",
    "    k2=0\n",
    "    \n",
    "    #приводим все фото к одному размеру\n",
    "    for img in bodys:\n",
    "        resized.append(cv2.resize(img, (540, 270), cv2.INTER_LINEAR))\n",
    "    resized_copy=resized\n",
    "    \n",
    "    index.extend([k2+i for i in range(5)])\n",
    "    k2=k2+5\n",
    "    \n",
    "    for i in range(5,len(resized)):\n",
    "        k2=k2+1\n",
    "        df=pd.DataFrame(resized[i])\n",
    "        for k in range(1,5):\n",
    "            new_df=pd.DataFrame(resized_copy[(i-k)])#пририсовываем к изображению 4 предыдущих изображения\n",
    "            df=pd.concat([df,new_df],sort=False,axis=1)\n",
    "        timeline.append(df)\n",
    "    index_of_deleted[name]=index    \n",
    "    \n",
    "    return timeline,index_of_deleted"
   ]
  },
  {
   "cell_type": "code",
   "execution_count": 9,
   "metadata": {},
   "outputs": [],
   "source": [
    "index_of_deleted2={}\n",
    "\n",
    "timeline1,index_of_deleted2=make_timeline(body1,index_of_deleted2,'1')\n",
    "timeline2,index_of_deleted2=make_timeline(body2,index_of_deleted2,'2')\n",
    "timeline3,index_of_deleted2=make_timeline(body3,index_of_deleted2,'3')\n",
    "timeline4,index_of_deleted2=make_timeline(body4,index_of_deleted2,'4')\n",
    "timeline5,index_of_deleted2=make_timeline(body5,index_of_deleted2,'5')\n",
    "timeline6,index_of_deleted2=make_timeline(body6,index_of_deleted2,'6')\n",
    "timeline7,index_of_deleted2=make_timeline(body7,index_of_deleted2,'7')\n"
   ]
  },
  {
   "cell_type": "code",
   "execution_count": 10,
   "metadata": {},
   "outputs": [
    {
     "data": {
      "text/plain": [
       "{'1': [0, 1, 2, 3, 4],\n",
       " '2': [0, 1, 2, 3, 4],\n",
       " '3': [0, 1, 2, 3, 4],\n",
       " '4': [0, 1, 2, 3, 4],\n",
       " '5': [0, 1, 2, 3, 4],\n",
       " '6': [0, 1, 2, 3, 4],\n",
       " '7': [0, 1, 2, 3, 4]}"
      ]
     },
     "execution_count": 10,
     "metadata": {},
     "output_type": "execute_result"
    }
   ],
   "source": [
    "index_of_deleted2"
   ]
  },
  {
   "cell_type": "code",
   "execution_count": 11,
   "metadata": {},
   "outputs": [
    {
     "data": {
      "text/plain": [
       "<matplotlib.image.AxesImage at 0x18d00374f08>"
      ]
     },
     "execution_count": 11,
     "metadata": {},
     "output_type": "execute_result"
    },
    {
     "data": {
      "image/png": "[encoded data removed]",
      "text/plain": [
       "<Figure size 720x504 with 1 Axes>"
      ]
     },
     "metadata": {
      "needs_background": "light"
     },
     "output_type": "display_data"
    }
   ],
   "source": [
    "plt.figure(figsize=(10,7))\n",
    "plt.imshow(timeline1[15])"
   ]
  },
  {
   "cell_type": "code",
   "execution_count": 12,
   "metadata": {},
   "outputs": [],
   "source": [
    "df1 = pd.read_excel('video_po_1_shabl.xlsx')#размеченные данные с пульсом за секунду\n",
    "df2 = pd.read_excel('spok_dyh_pyl_90.xlsx')\n",
    "df3 = pd.read_excel('video_po_4_shabl_puls_154.xlsx')\n",
    "df4 = pd.read_excel('puls_90-80_video_po_2_shab.xlsx')\n",
    "df5 = pd.read_excel('puls_116-90.xlsx')\n",
    "df6 = pd.read_excel('puls_142-108_3-4_shab.xlsx')\n",
    "df7 = pd.read_excel('puls_160-150_4_shab.xlsx')\n",
    "\n",
    "y1 = df1.iloc[:,1].values\n",
    "y2 = df2.iloc[:,1].values\n",
    "y3 = df3.iloc[:,1].values\n",
    "y4 = df4.iloc[:,1].values\n",
    "y5 = df5.iloc[:,1].values\n",
    "y6 = df6.iloc[:,1].values\n",
    "y7 = df7.iloc[:,1].values"
   ]
  },
  {
   "cell_type": "code",
   "execution_count": 14,
   "metadata": {},
   "outputs": [],
   "source": [
    "ys=[y1,y2,y3,y4,y5,y6,y7]\n",
    "for i in range(len(ys)):\n",
    "    #дублируем каждое значение Y, что увеличить Y до размера X\n",
    "    new_y=pd.Series(np.zeros(len(ys[i])*2))\n",
    "    new_y[new_y.index%2==0]=ys[i][np.int64(np.floor(new_y.index/2))]\n",
    "    new_y[new_y.index%2==1]=ys[i][np.int64(np.floor(new_y.index/2))]\n",
    "    ys[i]=new_y"
   ]
  },
  {
   "cell_type": "code",
   "execution_count": 15,
   "metadata": {},
   "outputs": [
    {
     "name": "stdout",
     "output_type": "stream",
     "text": [
      "1 125 128\n",
      "1 125 125\n",
      "2 126 130\n",
      "2 126 126\n",
      "3 90 94\n",
      "3 90 90\n",
      "4 125 130\n",
      "4 125 125\n",
      "5 128 133\n",
      "5 128 128\n",
      "6 87 90\n",
      "6 87 87\n",
      "7 104 107\n",
      "7 104 104\n"
     ]
    },
    {
     "name": "stderr",
     "output_type": "stream",
     "text": [
      "D:\\qwe\\python\\lib\\site-packages\\ipykernel_launcher.py:3: DeprecationWarning: in the future out of bounds indices will raise an error instead of being ignored by `numpy.delete`.\n",
      "  This is separate from the ipykernel package so we can avoid doing imports until\n"
     ]
    }
   ],
   "source": [
    "timelines= [timeline1,timeline2,timeline3,timeline4,timeline5,timeline6,timeline7]\n",
    "for i in range(7):\n",
    "    #удалим из разметки данные о кадрах, в которых не были найдены лица\n",
    "    y_index=np.delete(ys[i].index, index_of_deleted[str(i+1)])\n",
    "    y_index=np.delete(y_index, index_of_deleted2[str(i+1)])\n",
    "    y=ys[i][y_index]\n",
    "    \n",
    "    #если по какой-то причине размерности x и y разные, обрезаем одно из них\n",
    "    print(i+1,len(y),len(timelines[i]))\n",
    "    if len(y)<len(timelines[i]):\n",
    "        timelines[i]=timelines[i][:len(y)]\n",
    "    if len(timelines[i])<len(y):\n",
    "        y=y[:len(timelines[i])]\n",
    "    print(i+1,len(y),len(timelines[i]))\n",
    "    ys[i]=y"
   ]
  },
  {
   "cell_type": "code",
   "execution_count": 16,
   "metadata": {},
   "outputs": [],
   "source": [
    "#переводим изображение в строку в таблице\n",
    "df=[]\n",
    "for timeline in timelines:\n",
    "    for img in timeline:\n",
    "        df.append(np.array(img).reshape(1,-1).tolist()[0])"
   ]
  },
  {
   "cell_type": "code",
   "execution_count": 17,
   "metadata": {},
   "outputs": [
    {
     "data": {
      "text/plain": [
       "(785, 729000)"
      ]
     },
     "execution_count": 17,
     "metadata": {},
     "output_type": "execute_result"
    }
   ],
   "source": [
    "len(df),len(df[0])"
   ]
  },
  {
   "cell_type": "code",
   "execution_count": 18,
   "metadata": {},
   "outputs": [],
   "source": [
    "df=pd.DataFrame(np.array(df[:300000]))#таблица не помещалась в переменную"
   ]
  },
  {
   "cell_type": "code",
   "execution_count": 19,
   "metadata": {},
   "outputs": [],
   "source": [
    "df2=pd.DataFrame(np.array(df[300000:]))"
   ]
  },
  {
   "cell_type": "code",
   "execution_count": 20,
   "metadata": {},
   "outputs": [],
   "source": [
    "df=pd.concat([df, df2])"
   ]
  },
  {
   "cell_type": "code",
   "execution_count": 21,
   "metadata": {},
   "outputs": [
    {
     "data": {
      "text/html": [
       "<div>\n",
       "<style scoped>\n",
       "    .dataframe tbody tr th:only-of-type {\n",
       "        vertical-align: middle;\n",
       "    }\n",
       "\n",
       "    .dataframe tbody tr th {\n",
       "        vertical-align: top;\n",
       "    }\n",
       "\n",
       "    .dataframe thead th {\n",
       "        text-align: right;\n",
       "    }\n",
       "</style>\n",
       "<table border=\"1\" class=\"dataframe\">\n",
       "  <thead>\n",
       "    <tr style=\"text-align: right;\">\n",
       "      <th></th>\n",
       "      <th>0</th>\n",
       "      <th>1</th>\n",
       "      <th>2</th>\n",
       "      <th>3</th>\n",
       "      <th>4</th>\n",
       "      <th>5</th>\n",
       "      <th>6</th>\n",
       "      <th>7</th>\n",
       "      <th>8</th>\n",
       "      <th>9</th>\n",
       "      <th>...</th>\n",
       "      <th>728990</th>\n",
       "      <th>728991</th>\n",
       "      <th>728992</th>\n",
       "      <th>728993</th>\n",
       "      <th>728994</th>\n",
       "      <th>728995</th>\n",
       "      <th>728996</th>\n",
       "      <th>728997</th>\n",
       "      <th>728998</th>\n",
       "      <th>728999</th>\n",
       "    </tr>\n",
       "  </thead>\n",
       "  <tbody>\n",
       "    <tr>\n",
       "      <th>0</th>\n",
       "      <td>39</td>\n",
       "      <td>44</td>\n",
       "      <td>51</td>\n",
       "      <td>55</td>\n",
       "      <td>63</td>\n",
       "      <td>75</td>\n",
       "      <td>94</td>\n",
       "      <td>113</td>\n",
       "      <td>120</td>\n",
       "      <td>122</td>\n",
       "      <td>...</td>\n",
       "      <td>54</td>\n",
       "      <td>57</td>\n",
       "      <td>60</td>\n",
       "      <td>67</td>\n",
       "      <td>75</td>\n",
       "      <td>75</td>\n",
       "      <td>75</td>\n",
       "      <td>76</td>\n",
       "      <td>79</td>\n",
       "      <td>80</td>\n",
       "    </tr>\n",
       "    <tr>\n",
       "      <th>1</th>\n",
       "      <td>42</td>\n",
       "      <td>45</td>\n",
       "      <td>59</td>\n",
       "      <td>109</td>\n",
       "      <td>150</td>\n",
       "      <td>183</td>\n",
       "      <td>201</td>\n",
       "      <td>200</td>\n",
       "      <td>191</td>\n",
       "      <td>182</td>\n",
       "      <td>...</td>\n",
       "      <td>70</td>\n",
       "      <td>65</td>\n",
       "      <td>61</td>\n",
       "      <td>60</td>\n",
       "      <td>59</td>\n",
       "      <td>59</td>\n",
       "      <td>59</td>\n",
       "      <td>57</td>\n",
       "      <td>54</td>\n",
       "      <td>53</td>\n",
       "    </tr>\n",
       "    <tr>\n",
       "      <th>2</th>\n",
       "      <td>167</td>\n",
       "      <td>180</td>\n",
       "      <td>188</td>\n",
       "      <td>178</td>\n",
       "      <td>181</td>\n",
       "      <td>181</td>\n",
       "      <td>174</td>\n",
       "      <td>163</td>\n",
       "      <td>153</td>\n",
       "      <td>143</td>\n",
       "      <td>...</td>\n",
       "      <td>62</td>\n",
       "      <td>64</td>\n",
       "      <td>65</td>\n",
       "      <td>65</td>\n",
       "      <td>63</td>\n",
       "      <td>63</td>\n",
       "      <td>65</td>\n",
       "      <td>67</td>\n",
       "      <td>68</td>\n",
       "      <td>68</td>\n",
       "    </tr>\n",
       "    <tr>\n",
       "      <th>3</th>\n",
       "      <td>167</td>\n",
       "      <td>161</td>\n",
       "      <td>150</td>\n",
       "      <td>135</td>\n",
       "      <td>137</td>\n",
       "      <td>149</td>\n",
       "      <td>171</td>\n",
       "      <td>190</td>\n",
       "      <td>204</td>\n",
       "      <td>206</td>\n",
       "      <td>...</td>\n",
       "      <td>50</td>\n",
       "      <td>57</td>\n",
       "      <td>61</td>\n",
       "      <td>63</td>\n",
       "      <td>62</td>\n",
       "      <td>61</td>\n",
       "      <td>63</td>\n",
       "      <td>63</td>\n",
       "      <td>62</td>\n",
       "      <td>62</td>\n",
       "    </tr>\n",
       "    <tr>\n",
       "      <th>4</th>\n",
       "      <td>61</td>\n",
       "      <td>65</td>\n",
       "      <td>68</td>\n",
       "      <td>63</td>\n",
       "      <td>66</td>\n",
       "      <td>76</td>\n",
       "      <td>101</td>\n",
       "      <td>123</td>\n",
       "      <td>132</td>\n",
       "      <td>133</td>\n",
       "      <td>...</td>\n",
       "      <td>88</td>\n",
       "      <td>89</td>\n",
       "      <td>88</td>\n",
       "      <td>88</td>\n",
       "      <td>87</td>\n",
       "      <td>86</td>\n",
       "      <td>86</td>\n",
       "      <td>86</td>\n",
       "      <td>86</td>\n",
       "      <td>86</td>\n",
       "    </tr>\n",
       "  </tbody>\n",
       "</table>\n",
       "<p>5 rows × 729000 columns</p>\n",
       "</div>"
      ],
      "text/plain": [
       "   0       1       2       3       4       5       6       7       8       \\\n",
       "0      39      44      51      55      63      75      94     113     120   \n",
       "1      42      45      59     109     150     183     201     200     191   \n",
       "2     167     180     188     178     181     181     174     163     153   \n",
       "3     167     161     150     135     137     149     171     190     204   \n",
       "4      61      65      68      63      66      76     101     123     132   \n",
       "\n",
       "   9       ...  728990  728991  728992  728993  728994  728995  728996  \\\n",
       "0     122  ...      54      57      60      67      75      75      75   \n",
       "1     182  ...      70      65      61      60      59      59      59   \n",
       "2     143  ...      62      64      65      65      63      63      65   \n",
       "3     206  ...      50      57      61      63      62      61      63   \n",
       "4     133  ...      88      89      88      88      87      86      86   \n",
       "\n",
       "   728997  728998  728999  \n",
       "0      76      79      80  \n",
       "1      57      54      53  \n",
       "2      67      68      68  \n",
       "3      63      62      62  \n",
       "4      86      86      86  \n",
       "\n",
       "[5 rows x 729000 columns]"
      ]
     },
     "execution_count": 21,
     "metadata": {},
     "output_type": "execute_result"
    }
   ],
   "source": [
    "df.head()"
   ]
  },
  {
   "cell_type": "code",
   "execution_count": 22,
   "metadata": {},
   "outputs": [
    {
     "data": {
      "text/plain": [
       "(785, 785)"
      ]
     },
     "execution_count": 22,
     "metadata": {},
     "output_type": "execute_result"
    }
   ],
   "source": [
    "len(df),len(df[0])"
   ]
  },
  {
   "cell_type": "code",
   "execution_count": 23,
   "metadata": {},
   "outputs": [],
   "source": [
    "y_all=ys[0]\n",
    "for y in ys[1:]:\n",
    "    y_all = np.append(y, y_all, axis=0)"
   ]
  },
  {
   "cell_type": "code",
   "execution_count": 25,
   "metadata": {},
   "outputs": [],
   "source": [
    "df=df.join(pd.DataFrame(y_all,columns=['target']))"
   ]
  },
  {
   "cell_type": "code",
   "execution_count": 26,
   "metadata": {
    "colab": {
     "base_uri": "https://localhost:8080/",
     "height": 424
    },
    "id": "FBRgvSPV3kbc",
    "outputId": "726cbf0f-23c1-44a8-9fd7-f06afdf4ab16"
   },
   "outputs": [
    {
     "data": {
      "text/html": [
       "<div>\n",
       "<style scoped>\n",
       "    .dataframe tbody tr th:only-of-type {\n",
       "        vertical-align: middle;\n",
       "    }\n",
       "\n",
       "    .dataframe tbody tr th {\n",
       "        vertical-align: top;\n",
       "    }\n",
       "\n",
       "    .dataframe thead th {\n",
       "        text-align: right;\n",
       "    }\n",
       "</style>\n",
       "<table border=\"1\" class=\"dataframe\">\n",
       "  <thead>\n",
       "    <tr style=\"text-align: right;\">\n",
       "      <th></th>\n",
       "      <th>0</th>\n",
       "      <th>1</th>\n",
       "      <th>2</th>\n",
       "      <th>3</th>\n",
       "      <th>4</th>\n",
       "      <th>5</th>\n",
       "      <th>6</th>\n",
       "      <th>7</th>\n",
       "      <th>8</th>\n",
       "      <th>9</th>\n",
       "      <th>...</th>\n",
       "      <th>728991</th>\n",
       "      <th>728992</th>\n",
       "      <th>728993</th>\n",
       "      <th>728994</th>\n",
       "      <th>728995</th>\n",
       "      <th>728996</th>\n",
       "      <th>728997</th>\n",
       "      <th>728998</th>\n",
       "      <th>728999</th>\n",
       "      <th>target</th>\n",
       "    </tr>\n",
       "  </thead>\n",
       "  <tbody>\n",
       "    <tr>\n",
       "      <th>0</th>\n",
       "      <td>39</td>\n",
       "      <td>44</td>\n",
       "      <td>51</td>\n",
       "      <td>55</td>\n",
       "      <td>63</td>\n",
       "      <td>75</td>\n",
       "      <td>94</td>\n",
       "      <td>113</td>\n",
       "      <td>120</td>\n",
       "      <td>122</td>\n",
       "      <td>...</td>\n",
       "      <td>57</td>\n",
       "      <td>60</td>\n",
       "      <td>67</td>\n",
       "      <td>75</td>\n",
       "      <td>75</td>\n",
       "      <td>75</td>\n",
       "      <td>76</td>\n",
       "      <td>79</td>\n",
       "      <td>80</td>\n",
       "      <td>160.0</td>\n",
       "    </tr>\n",
       "    <tr>\n",
       "      <th>1</th>\n",
       "      <td>42</td>\n",
       "      <td>45</td>\n",
       "      <td>59</td>\n",
       "      <td>109</td>\n",
       "      <td>150</td>\n",
       "      <td>183</td>\n",
       "      <td>201</td>\n",
       "      <td>200</td>\n",
       "      <td>191</td>\n",
       "      <td>182</td>\n",
       "      <td>...</td>\n",
       "      <td>65</td>\n",
       "      <td>61</td>\n",
       "      <td>60</td>\n",
       "      <td>59</td>\n",
       "      <td>59</td>\n",
       "      <td>59</td>\n",
       "      <td>57</td>\n",
       "      <td>54</td>\n",
       "      <td>53</td>\n",
       "      <td>160.0</td>\n",
       "    </tr>\n",
       "    <tr>\n",
       "      <th>2</th>\n",
       "      <td>167</td>\n",
       "      <td>180</td>\n",
       "      <td>188</td>\n",
       "      <td>178</td>\n",
       "      <td>181</td>\n",
       "      <td>181</td>\n",
       "      <td>174</td>\n",
       "      <td>163</td>\n",
       "      <td>153</td>\n",
       "      <td>143</td>\n",
       "      <td>...</td>\n",
       "      <td>64</td>\n",
       "      <td>65</td>\n",
       "      <td>65</td>\n",
       "      <td>63</td>\n",
       "      <td>63</td>\n",
       "      <td>65</td>\n",
       "      <td>67</td>\n",
       "      <td>68</td>\n",
       "      <td>68</td>\n",
       "      <td>160.0</td>\n",
       "    </tr>\n",
       "    <tr>\n",
       "      <th>3</th>\n",
       "      <td>167</td>\n",
       "      <td>161</td>\n",
       "      <td>150</td>\n",
       "      <td>135</td>\n",
       "      <td>137</td>\n",
       "      <td>149</td>\n",
       "      <td>171</td>\n",
       "      <td>190</td>\n",
       "      <td>204</td>\n",
       "      <td>206</td>\n",
       "      <td>...</td>\n",
       "      <td>57</td>\n",
       "      <td>61</td>\n",
       "      <td>63</td>\n",
       "      <td>62</td>\n",
       "      <td>61</td>\n",
       "      <td>63</td>\n",
       "      <td>63</td>\n",
       "      <td>62</td>\n",
       "      <td>62</td>\n",
       "      <td>160.0</td>\n",
       "    </tr>\n",
       "    <tr>\n",
       "      <th>4</th>\n",
       "      <td>61</td>\n",
       "      <td>65</td>\n",
       "      <td>68</td>\n",
       "      <td>63</td>\n",
       "      <td>66</td>\n",
       "      <td>76</td>\n",
       "      <td>101</td>\n",
       "      <td>123</td>\n",
       "      <td>132</td>\n",
       "      <td>133</td>\n",
       "      <td>...</td>\n",
       "      <td>89</td>\n",
       "      <td>88</td>\n",
       "      <td>88</td>\n",
       "      <td>87</td>\n",
       "      <td>86</td>\n",
       "      <td>86</td>\n",
       "      <td>86</td>\n",
       "      <td>86</td>\n",
       "      <td>86</td>\n",
       "      <td>160.0</td>\n",
       "    </tr>\n",
       "    <tr>\n",
       "      <th>...</th>\n",
       "      <td>...</td>\n",
       "      <td>...</td>\n",
       "      <td>...</td>\n",
       "      <td>...</td>\n",
       "      <td>...</td>\n",
       "      <td>...</td>\n",
       "      <td>...</td>\n",
       "      <td>...</td>\n",
       "      <td>...</td>\n",
       "      <td>...</td>\n",
       "      <td>...</td>\n",
       "      <td>...</td>\n",
       "      <td>...</td>\n",
       "      <td>...</td>\n",
       "      <td>...</td>\n",
       "      <td>...</td>\n",
       "      <td>...</td>\n",
       "      <td>...</td>\n",
       "      <td>...</td>\n",
       "      <td>...</td>\n",
       "      <td>...</td>\n",
       "    </tr>\n",
       "    <tr>\n",
       "      <th>780</th>\n",
       "      <td>148</td>\n",
       "      <td>136</td>\n",
       "      <td>126</td>\n",
       "      <td>133</td>\n",
       "      <td>144</td>\n",
       "      <td>145</td>\n",
       "      <td>137</td>\n",
       "      <td>111</td>\n",
       "      <td>100</td>\n",
       "      <td>111</td>\n",
       "      <td>...</td>\n",
       "      <td>121</td>\n",
       "      <td>105</td>\n",
       "      <td>77</td>\n",
       "      <td>70</td>\n",
       "      <td>73</td>\n",
       "      <td>73</td>\n",
       "      <td>77</td>\n",
       "      <td>92</td>\n",
       "      <td>105</td>\n",
       "      <td>88.0</td>\n",
       "    </tr>\n",
       "    <tr>\n",
       "      <th>781</th>\n",
       "      <td>141</td>\n",
       "      <td>134</td>\n",
       "      <td>125</td>\n",
       "      <td>117</td>\n",
       "      <td>109</td>\n",
       "      <td>105</td>\n",
       "      <td>111</td>\n",
       "      <td>123</td>\n",
       "      <td>131</td>\n",
       "      <td>139</td>\n",
       "      <td>...</td>\n",
       "      <td>66</td>\n",
       "      <td>59</td>\n",
       "      <td>63</td>\n",
       "      <td>73</td>\n",
       "      <td>71</td>\n",
       "      <td>58</td>\n",
       "      <td>53</td>\n",
       "      <td>51</td>\n",
       "      <td>49</td>\n",
       "      <td>88.0</td>\n",
       "    </tr>\n",
       "    <tr>\n",
       "      <th>782</th>\n",
       "      <td>147</td>\n",
       "      <td>141</td>\n",
       "      <td>132</td>\n",
       "      <td>131</td>\n",
       "      <td>135</td>\n",
       "      <td>136</td>\n",
       "      <td>136</td>\n",
       "      <td>137</td>\n",
       "      <td>138</td>\n",
       "      <td>153</td>\n",
       "      <td>...</td>\n",
       "      <td>78</td>\n",
       "      <td>66</td>\n",
       "      <td>64</td>\n",
       "      <td>82</td>\n",
       "      <td>87</td>\n",
       "      <td>85</td>\n",
       "      <td>84</td>\n",
       "      <td>89</td>\n",
       "      <td>96</td>\n",
       "      <td>88.0</td>\n",
       "    </tr>\n",
       "    <tr>\n",
       "      <th>783</th>\n",
       "      <td>121</td>\n",
       "      <td>116</td>\n",
       "      <td>137</td>\n",
       "      <td>148</td>\n",
       "      <td>129</td>\n",
       "      <td>103</td>\n",
       "      <td>114</td>\n",
       "      <td>166</td>\n",
       "      <td>152</td>\n",
       "      <td>130</td>\n",
       "      <td>...</td>\n",
       "      <td>71</td>\n",
       "      <td>73</td>\n",
       "      <td>71</td>\n",
       "      <td>65</td>\n",
       "      <td>59</td>\n",
       "      <td>54</td>\n",
       "      <td>46</td>\n",
       "      <td>38</td>\n",
       "      <td>36</td>\n",
       "      <td>87.0</td>\n",
       "    </tr>\n",
       "    <tr>\n",
       "      <th>784</th>\n",
       "      <td>178</td>\n",
       "      <td>180</td>\n",
       "      <td>181</td>\n",
       "      <td>175</td>\n",
       "      <td>151</td>\n",
       "      <td>139</td>\n",
       "      <td>138</td>\n",
       "      <td>134</td>\n",
       "      <td>115</td>\n",
       "      <td>143</td>\n",
       "      <td>...</td>\n",
       "      <td>67</td>\n",
       "      <td>75</td>\n",
       "      <td>83</td>\n",
       "      <td>87</td>\n",
       "      <td>80</td>\n",
       "      <td>67</td>\n",
       "      <td>62</td>\n",
       "      <td>72</td>\n",
       "      <td>75</td>\n",
       "      <td>87.0</td>\n",
       "    </tr>\n",
       "  </tbody>\n",
       "</table>\n",
       "<p>785 rows × 729001 columns</p>\n",
       "</div>"
      ],
      "text/plain": [
       "       0    1    2    3    4    5    6    7    8    9  ...  728991  728992  \\\n",
       "0     39   44   51   55   63   75   94  113  120  122  ...      57      60   \n",
       "1     42   45   59  109  150  183  201  200  191  182  ...      65      61   \n",
       "2    167  180  188  178  181  181  174  163  153  143  ...      64      65   \n",
       "3    167  161  150  135  137  149  171  190  204  206  ...      57      61   \n",
       "4     61   65   68   63   66   76  101  123  132  133  ...      89      88   \n",
       "..   ...  ...  ...  ...  ...  ...  ...  ...  ...  ...  ...     ...     ...   \n",
       "780  148  136  126  133  144  145  137  111  100  111  ...     121     105   \n",
       "781  141  134  125  117  109  105  111  123  131  139  ...      66      59   \n",
       "782  147  141  132  131  135  136  136  137  138  153  ...      78      66   \n",
       "783  121  116  137  148  129  103  114  166  152  130  ...      71      73   \n",
       "784  178  180  181  175  151  139  138  134  115  143  ...      67      75   \n",
       "\n",
       "     728993  728994  728995  728996  728997  728998  728999  target  \n",
       "0        67      75      75      75      76      79      80   160.0  \n",
       "1        60      59      59      59      57      54      53   160.0  \n",
       "2        65      63      63      65      67      68      68   160.0  \n",
       "3        63      62      61      63      63      62      62   160.0  \n",
       "4        88      87      86      86      86      86      86   160.0  \n",
       "..      ...     ...     ...     ...     ...     ...     ...     ...  \n",
       "780      77      70      73      73      77      92     105    88.0  \n",
       "781      63      73      71      58      53      51      49    88.0  \n",
       "782      64      82      87      85      84      89      96    88.0  \n",
       "783      71      65      59      54      46      38      36    87.0  \n",
       "784      83      87      80      67      62      72      75    87.0  \n",
       "\n",
       "[785 rows x 729001 columns]"
      ]
     },
     "execution_count": 26,
     "metadata": {},
     "output_type": "execute_result"
    }
   ],
   "source": [
    "df"
   ]
  },
  {
   "cell_type": "code",
   "execution_count": 27,
   "metadata": {
    "id": "X_71PWhk4LsT"
   },
   "outputs": [],
   "source": [
    "from sklearn.linear_model import LinearRegression\n",
    "from sklearn.metrics import precision_score, roc_auc_score\n",
    "from sklearn.model_selection import train_test_split\n",
    "\n",
    "X = df.drop(['target'], axis = 1)\n",
    "y = df['target'].values\n",
    "\n",
    "X_train, X_test, y_train, y_test = train_test_split(\n",
    "    X,y, test_size=0.33, random_state=42)\n"
   ]
  },
  {
   "cell_type": "code",
   "execution_count": 28,
   "metadata": {
    "id": "zN64BKtOQl5q"
   },
   "outputs": [],
   "source": [
    "import matplotlib.pyplot as plt\n",
    "\n",
    "\n",
    "def show_parameter_selection(train_acc, test_acc, grid, xlabel, ymin=0.8, ymax=1.005):\n",
    "    #выводит график train_acc, test_acc\n",
    "    plt.style.use('ggplot')\n",
    "    %matplotlib inline\n",
    "    train_acc, test_acc = np.asarray(train_acc), np.asarray(test_acc)\n",
    "    fig, ax = plt.subplots(figsize=(8, 4))\n",
    "    ax.plot(grid, train_acc, alpha=0.5, color='blue', label='train')\n",
    "    ax.plot(grid, test_acc, alpha=0.5, color='red', label='test')\n",
    "    ax.set_title(\"Подбор \" + xlabel)\n",
    "    ax.legend(loc='best')\n",
    "    ax.set_ylim([ymin,ymax])\n",
    "    ax.set_ylabel(\"r2\")\n",
    "    ax.set_xlabel(xlabel)"
   ]
  },
  {
   "cell_type": "code",
   "execution_count": 54,
   "metadata": {
    "colab": {
     "base_uri": "https://localhost:8080/"
    },
    "id": "gjmyG8bc46Qw",
    "outputId": "fc66878a-52d1-46a9-8fc5-a198f09b0652"
   },
   "outputs": [
    {
     "name": "stdout",
     "output_type": "stream",
     "text": [
      "1.0\n",
      "0.869044652888966\n"
     ]
    }
   ],
   "source": [
    "model = LinearRegression()#переобучение\n",
    "model.fit(X_train, y_train)\n",
    "print(model.score(X_train, y_train))\n",
    "print(model.score(X_test, y_test))"
   ]
  },
  {
   "cell_type": "markdown",
   "metadata": {},
   "source": [
    "# RandomForest"
   ]
  },
  {
   "cell_type": "code",
   "execution_count": 60,
   "metadata": {},
   "outputs": [
    {
     "name": "stdout",
     "output_type": "stream",
     "text": [
      "Train score for rf: 0.965184530760475\n",
      "Test score for rf: 0.8162775542338406\n",
      "MSE for rf: 139.56740576923076\n",
      "R^2 = 0.8162775542338406\n",
      "Cross_val_score: 0.680148264122965\n"
     ]
    }
   ],
   "source": [
    "from sklearn.ensemble import RandomForestRegressor\n",
    "\n",
    "rf = RandomForestRegressor(max_features=13)\n",
    "rf.fit(X_train, y_train)\n",
    "rf_predict = rf.predict(X_test)\n",
    "\n",
    "print(\"Train score for rf:\",rf.score(X_train, y_train)) \n",
    "print(\"Test score for rf:\",rf.score(X_test, y_test))  \n",
    "print(\"MSE for rf:\",mean_squared_error(y_test, rf.predict(X_test)))\n",
    "r2 = r2_score(y_test, rf_predict)\n",
    "print(f'R^2 = {r2}')\n",
    "print(\"Cross_val_score:\",cross_val_score(rf, X_train, np.array(y_train).ravel(), cv=4).mean())"
   ]
  },
  {
   "cell_type": "code",
   "execution_count": 61,
   "metadata": {},
   "outputs": [
    {
     "data": {
      "image/png": "[encoded data removed]",
      "text/plain": [
       "<Figure size 576x288 with 1 Axes>"
      ]
     },
     "metadata": {
      "needs_background": "light"
     },
     "output_type": "display_data"
    }
   ],
   "source": [
    "train_acc = []\n",
    "test_acc = []\n",
    "max_features_grid = range(3000,6000,700)\n",
    "for max_features in max_features_grid:\n",
    "    rfc = RandomForestRegressor(n_estimators=50, random_state=42,max_features=max_features, n_jobs=-1, oob_score=True)\n",
    "    rfc.fit(X_train, y_train)\n",
    "    train_acc.append(rfc.score(X_train, y_train))\n",
    "    test_acc.append(rfc.score(X_test, y_test))\n",
    "    \n",
    "show_parameter_selection(train_acc,test_acc,max_features_grid,\"max_features\",ymin=0.5)   "
   ]
  },
  {
   "cell_type": "code",
   "execution_count": 34,
   "metadata": {},
   "outputs": [
    {
     "data": {
      "image/png": "[encoded data removed]",
      "text/plain": [
       "<Figure size 576x288 with 1 Axes>"
      ]
     },
     "metadata": {
      "needs_background": "light"
     },
     "output_type": "display_data"
    }
   ],
   "source": [
    "train_acc = []\n",
    "test_acc = []\n",
    "min_samples_leaf_grid = range(1,31,5)\n",
    "for min_samples_leaf in min_samples_leaf_grid:\n",
    "    rfc = RandomForestRegressor(n_estimators=50, random_state=42,max_features=13,\n",
    "                                 min_samples_leaf=min_samples_leaf, n_jobs=-1, oob_score=True)\n",
    "    rfc.fit(X_train, y_train)\n",
    "    \n",
    "    train_acc.append(rfc.score(X_train, y_train))\n",
    "    test_acc.append(rfc.score(X_test, y_test))\n",
    "    \n",
    "show_parameter_selection(train_acc, test_acc, min_samples_leaf_grid, \"min_samples_leaf\", ymin=0.5)   "
   ]
  },
  {
   "cell_type": "code",
   "execution_count": 35,
   "metadata": {},
   "outputs": [
    {
     "data": {
      "image/png": "[encoded data removed]",
      "text/plain": [
       "<Figure size 576x288 with 1 Axes>"
      ]
     },
     "metadata": {
      "needs_background": "light"
     },
     "output_type": "display_data"
    }
   ],
   "source": [
    "train_acc = []\n",
    "test_acc = []\n",
    "max_depth_grid = range(1,31,5)\n",
    "for max_depth in max_depth_grid:\n",
    "    rfc = RandomForestRegressor(n_estimators=50, random_state=42,max_features=13,\n",
    "                                max_depth=max_depth, n_jobs=-1, oob_score=True)\n",
    "    rfc.fit(X_train, y_train)\n",
    "    \n",
    "    train_acc.append(rfc.score(X_train, y_train))\n",
    "    test_acc.append(rfc.score(X_test, y_test))\n",
    "    \n",
    "show_parameter_selection(train_acc, test_acc, max_depth_grid, \"max_depth\", ymin=0.5)   "
   ]
  },
  {
   "cell_type": "code",
   "execution_count": 39,
   "metadata": {},
   "outputs": [
    {
     "data": {
      "image/png": "[encoded data removed]",
      "text/plain": [
       "<Figure size 576x288 with 1 Axes>"
      ]
     },
     "metadata": {
      "needs_background": "light"
     },
     "output_type": "display_data"
    }
   ],
   "source": [
    "train_acc = []\n",
    "test_acc = []\n",
    "max_depth_grid = range(2,7)\n",
    "for max_depth in max_depth_grid:\n",
    "    rfc = RandomForestRegressor(n_estimators=50, random_state=42,max_features=13,\n",
    "                                max_depth=max_depth, n_jobs=-1, oob_score=True)\n",
    "    rfc.fit(X_train, y_train)\n",
    "    \n",
    "    train_acc.append(rfc.score(X_train, y_train))\n",
    "    test_acc.append(rfc.score(X_test, y_test))\n",
    "    \n",
    "show_parameter_selection(train_acc, test_acc, max_depth_grid, \"max_depth\", ymin=0.5)   "
   ]
  },
  {
   "cell_type": "markdown",
   "metadata": {},
   "source": [
    "Готовая модель"
   ]
  },
  {
   "cell_type": "code",
   "execution_count": 47,
   "metadata": {},
   "outputs": [
    {
     "name": "stdout",
     "output_type": "stream",
     "text": [
      "Train score for rf: 0.8912367191339695\n",
      "Test score for rf: 0.8749416085311631\n",
      "MSE for rf: 95.00241080610188\n",
      "R^2 = 0.8749416085311632\n",
      "Cross_val_score: 0.7650166981554577\n"
     ]
    }
   ],
   "source": [
    "from sklearn.ensemble import RandomForestRegressor\n",
    "\n",
    "rf = RandomForestRegressor(max_features=3500,min_samples_leaf=15,max_depth=4)\n",
    "rf.fit(X_train, y_train)\n",
    "rf_predict = rf.predict(X_test)\n",
    "\n",
    "print(\"Train score for rf:\",rf.score(X_train, y_train)) \n",
    "print(\"Test score for rf:\",rf.score(X_test, y_test))  \n",
    "print(\"MSE for rf:\",mean_squared_error(y_test, rf.predict(X_test)))\n",
    "r2 = r2_score(y_test, rf_predict)\n",
    "print(f'R^2 = {r2}')\n",
    "print(\"Cross_val_score:\",cross_val_score(rf, X_train, np.array(y_train).ravel(), cv=4).mean())"
   ]
  },
  {
   "cell_type": "markdown",
   "metadata": {},
   "source": [
    "# ExtraTrees"
   ]
  },
  {
   "cell_type": "code",
   "execution_count": 66,
   "metadata": {},
   "outputs": [
    {
     "name": "stdout",
     "output_type": "stream",
     "text": [
      "Score тестовой: 0.818955066951374\n",
      "Score обучающей: 1.0\n",
      "MSE for DT: 137.53339461538462\n",
      "[0.72324355 0.70824231 0.70061306 0.69438552]\n",
      "Avg crossval score: 0.7066211092992423\n"
     ]
    }
   ],
   "source": [
    "from sklearn.ensemble import ExtraTreesRegressor\n",
    "from sklearn.model_selection import GridSearchCV, cross_val_score\n",
    "from sklearn.metrics import accuracy_score,mean_squared_error,r2_score\n",
    "from sklearn.model_selection import cross_val_score\n",
    "\n",
    "xtr = ExtraTreesRegressor(n_estimators=100, random_state=42,max_features=40,\n",
    "                             n_jobs=-1)\n",
    "xtr.fit(X_train, y_train)\n",
    "print(\"Score тестовой:\",xtr.score(X_test, y_test))\n",
    "print(\"Score обучающей:\",xtr.score(X_train, y_train))\n",
    "print(\"MSE for DT:\",mean_squared_error(y_test, xtr.predict(X_test)))\n",
    "print(cross_val_score(xtr, X_train, np.array(y_train).ravel(), cv=4))\n",
    "print('Avg crossval score:',sum(cross_val_score(xtr, X_train, np.array(y_train).ravel(), cv=4))/4)"
   ]
  },
  {
   "cell_type": "code",
   "execution_count": 67,
   "metadata": {},
   "outputs": [
    {
     "data": {
      "image/png": "[encoded data removed]",
      "text/plain": [
       "<Figure size 576x288 with 1 Axes>"
      ]
     },
     "metadata": {
      "needs_background": "light"
     },
     "output_type": "display_data"
    }
   ],
   "source": [
    "train_acc = []\n",
    "test_acc = []\n",
    "max_features_grid = range(6000,7000,50)\n",
    "for max_features in max_features_grid:\n",
    "    xtr = ExtraTreesRegressor(n_estimators=50, random_state=42,max_features=max_features, n_jobs=-1)\n",
    "    xtr.fit(X_train, y_train)\n",
    "    train_acc.append(xtr.score(X_train, y_train))\n",
    "    test_acc.append(xtr.score(X_test, y_test))\n",
    "    \n",
    "show_parameter_selection(train_acc,test_acc,max_features_grid,\"max_features\",ymin=0.5)   "
   ]
  },
  {
   "cell_type": "code",
   "execution_count": 68,
   "metadata": {},
   "outputs": [
    {
     "data": {
      "image/png": "[encoded data removed]",
      "text/plain": [
       "<Figure size 576x288 with 1 Axes>"
      ]
     },
     "metadata": {
      "needs_background": "light"
     },
     "output_type": "display_data"
    }
   ],
   "source": [
    "train_acc = []\n",
    "test_acc = []\n",
    "min_samples_leaf_grid = range(3,40,5)\n",
    "for min_samples_leaf in min_samples_leaf_grid:\n",
    "    rfc = ExtraTreesRegressor(n_estimators=50, random_state=42,max_features=48,\n",
    "                                 min_samples_leaf=min_samples_leaf, n_jobs=-1)\n",
    "    rfc.fit(X_train, y_train)\n",
    "    \n",
    "    train_acc.append(rfc.score(X_train, y_train))\n",
    "    test_acc.append(rfc.score(X_test, y_test))\n",
    "    \n",
    "show_parameter_selection(train_acc, test_acc, min_samples_leaf_grid, \"min_samples_leaf\", ymin=0.2)   "
   ]
  },
  {
   "cell_type": "code",
   "execution_count": 69,
   "metadata": {},
   "outputs": [
    {
     "data": {
      "image/png": "[encoded data removed]",
      "text/plain": [
       "<Figure size 576x288 with 1 Axes>"
      ]
     },
     "metadata": {
      "needs_background": "light"
     },
     "output_type": "display_data"
    }
   ],
   "source": [
    "train_acc = []\n",
    "test_acc = []\n",
    "max_depth_grid = range(1,12)\n",
    "for max_depth in max_depth_grid:\n",
    "    xtr = ExtraTreesRegressor(n_estimators=50, random_state=42,max_depth=max_depth,max_features=50, n_jobs=-1)\n",
    "    xtr.fit(X_train, y_train)\n",
    "    train_acc.append(xtr.score(X_train, y_train))\n",
    "    test_acc.append(xtr.score(X_test, y_test))\n",
    "    \n",
    "show_parameter_selection(train_acc,test_acc,max_depth_grid,\"max_depth\",ymin=0.1)   "
   ]
  },
  {
   "cell_type": "markdown",
   "metadata": {},
   "source": [
    "Готовая модель"
   ]
  },
  {
   "cell_type": "code",
   "execution_count": 70,
   "metadata": {},
   "outputs": [
    {
     "name": "stdout",
     "output_type": "stream",
     "text": [
      "Score тестовой: 0.8927398611230627\n",
      "Score обучающей: 0.9398966114698947\n",
      "MSE for DT: 81.48171151909925\n",
      "[0.82829426 0.77782037 0.77503705 0.78069623]\n",
      "Avg crossval score: 0.7904619756552718\n"
     ]
    }
   ],
   "source": [
    "from sklearn.ensemble import ExtraTreesRegressor\n",
    "from sklearn.model_selection import GridSearchCV, cross_val_score\n",
    "from sklearn.metrics import accuracy_score,mean_squared_error,r2_score\n",
    "from sklearn.model_selection import cross_val_score\n",
    "\n",
    "xtr = ExtraTreesRegressor(n_estimators=100, random_state=42,max_features=6500,\n",
    "                          min_samples_leaf=10,max_depth=5,\n",
    "                             n_jobs=-1)\n",
    "xtr.fit(X_train, y_train)\n",
    "print(\"Score тестовой:\",xtr.score(X_test, y_test))\n",
    "print(\"Score обучающей:\",xtr.score(X_train, y_train))\n",
    "print(\"MSE for DT:\",mean_squared_error(y_test, xtr.predict(X_test)))\n",
    "print(cross_val_score(xtr, X_train, np.array(y_train).ravel(), cv=4))\n",
    "print('Avg crossval score:',sum(cross_val_score(xtr, X_train, np.array(y_train).ravel(), cv=4))/4)"
   ]
  },
  {
   "cell_type": "markdown",
   "metadata": {},
   "source": [
    "# KNN"
   ]
  },
  {
   "cell_type": "code",
   "execution_count": 37,
   "metadata": {
    "colab": {
     "base_uri": "https://localhost:8080/",
     "height": 299
    },
    "id": "2dXozj_yQtJK",
    "outputId": "4745687d-c67d-4009-9f30-3b74b73f989d"
   },
   "outputs": [
    {
     "data": {
      "image/png": "[encoded data removed]",
      "text/plain": [
       "<Figure size 576x288 with 1 Axes>"
      ]
     },
     "metadata": {
      "needs_background": "light"
     },
     "output_type": "display_data"
    }
   ],
   "source": [
    "from sklearn.neighbors import KNeighborsRegressor\n",
    "train_acc = []\n",
    "test_acc = []\n",
    "n_neighbors_grid = range(2,40,10)\n",
    "for n_neighbors in n_neighbors_grid:\n",
    "    knn = KNeighborsRegressor(n_neighbors=n_neighbors, n_jobs=-1)\n",
    "    knn.fit(X_train, y_train)\n",
    "  \n",
    "    test_acc.append(r2_score(y_test, knn.predict(X_test)))\n",
    "    train_acc.append(r2_score(y_train, knn.predict(X_train)))\n",
    "\n",
    "show_parameter_selection(train_acc, test_acc, n_neighbors_grid,\"n_neighbors\",ymin=0.5)"
   ]
  },
  {
   "cell_type": "code",
   "execution_count": 44,
   "metadata": {},
   "outputs": [
    {
     "data": {
      "image/png": "[encoded data removed]",
      "text/plain": [
       "<Figure size 576x288 with 1 Axes>"
      ]
     },
     "metadata": {
      "needs_background": "light"
     },
     "output_type": "display_data"
    }
   ],
   "source": [
    "from sklearn.neighbors import KNeighborsRegressor\n",
    "train_acc = []\n",
    "test_acc = []\n",
    "n_neighbors_grid = range(40,70,10)\n",
    "for n_neighbors in n_neighbors_grid:\n",
    "    knn = KNeighborsRegressor(n_neighbors=n_neighbors, n_jobs=-1)\n",
    "    knn.fit(X_train, y_train)\n",
    "  \n",
    "    test_acc.append(r2_score(y_test, knn.predict(X_test)))\n",
    "    train_acc.append(r2_score(y_train, knn.predict(X_train)))\n",
    "\n",
    "show_parameter_selection(train_acc, test_acc, n_neighbors_grid,\"n_neighbors\",ymin=0.5)"
   ]
  },
  {
   "cell_type": "code",
   "execution_count": 45,
   "metadata": {},
   "outputs": [
    {
     "name": "stdout",
     "output_type": "stream",
     "text": [
      "Score тестовой: 0.7981202226185398\n",
      "Score обучающей: 0.7809636268564104\n",
      "MSE: 153.36088461538463\n",
      "[0.72705058 0.63488919 0.63236269 0.65228259]\n",
      "Avg crossval score: 0.6616462631676842\n"
     ]
    }
   ],
   "source": [
    "from sklearn.neighbors import KNeighborsRegressor\n",
    "from sklearn.metrics import (mean_squared_error, r2_score)\n",
    "knn=KNeighborsRegressor(n_jobs=-1,n_neighbors=10)\n",
    "knn.fit(X_train, y_train)\n",
    "knn_pred = knn.predict(X_test)\n",
    "print(\"Score тестовой:\",knn.score(X_test, y_test)) \n",
    "print(\"Score обучающей:\",knn.score(X_train, y_train))\n",
    "print(\"MSE:\",mean_squared_error(y_test, knn.predict(X_test)))\n",
    "print(cross_val_score(knn, X_train, np.array(y_train).ravel(), cv=4))\n",
    "print('Avg crossval score:',sum(cross_val_score(knn, X_train, np.array(y_train).ravel(), cv=4))/4)"
   ]
  },
  {
   "cell_type": "markdown",
   "metadata": {},
   "source": [
    "Лучше всех себя показали ExtraTreesRegressor и RandomForestRegressor"
   ]
  },
  {
   "cell_type": "code",
   "execution_count": 49,
   "metadata": {
    "colab": {
     "base_uri": "https://localhost:8080/"
    },
    "id": "TKt5jvHEjmpH",
    "outputId": "90906514-cb55-4847-d738-61677695b5cd"
   },
   "outputs": [
    {
     "name": "stdout",
     "output_type": "stream",
     "text": [
      "ExtraTreesRegressor\n"
     ]
    },
    {
     "name": "stderr",
     "output_type": "stream",
     "text": [
      "D:\\qwe\\python\\lib\\site-packages\\sklearn\\model_selection\\_split.py:667: UserWarning: The least populated class in y has only 2 members, which is less than n_splits=5.\n",
      "  % (min_groups, self.n_splits)), UserWarning)\n"
     ]
    },
    {
     "name": "stdout",
     "output_type": "stream",
     "text": [
      "Fold  1\n",
      " Score тестовой: 0.7595190937254764\n",
      "Score обучающей: 0.959734299991634\n",
      "MSE: 177.99175399635766\n",
      "Fold  2\n",
      " Score тестовой: 0.8190380496114795\n",
      "Score обучающей: 0.9574880781220906\n",
      "MSE: 134.00995580748537\n",
      "Fold  3\n",
      " Score тестовой: 0.8495603318289553\n",
      "Score обучающей: 0.9547121281445151\n",
      "MSE: 110.77438724285398\n",
      "Fold  4\n",
      " Score тестовой: 0.8419382974546105\n",
      "Score обучающей: 0.9572421638863139\n",
      "MSE: 115.72836808651196\n",
      "Fold  5\n",
      " Score тестовой: 0.8400760528661745\n",
      "Score обучающей: 0.9554390577612026\n",
      "MSE: 116.5097048264526\n",
      "\n",
      "Crossval MSE: 131.0028339919323\n",
      "Crossval r2: 0.8220263650973394\n"
     ]
    }
   ],
   "source": [
    "from sklearn.tree import DecisionTreeRegressor\n",
    "from sklearn.model_selection import StratifiedKFold\n",
    "\n",
    "skf = StratifiedKFold(n_splits=5)\n",
    "fold_no = 1\n",
    "mse=[]\n",
    "R2_m=[]\n",
    "print(\"ExtraTreesRegressor\")\n",
    "for train_index, test_index in skf.split(df, df['target']):\n",
    "    train = df.loc[train_index,:]\n",
    "    test = df.loc[test_index,:]\n",
    "    xtr = ExtraTreesRegressor(n_estimators=100, random_state=42,max_features=7000,\n",
    "                          min_samples_leaf=11,max_depth=10,\n",
    "                             n_jobs=-1)\n",
    "    y_train=train['target']\n",
    "    X_train=train.drop(['target'],axis=1)\n",
    "    y_test=test['target']\n",
    "    X_test=test.drop(['target'],axis=1)\n",
    "    xtr.fit(X_train, y_train)\n",
    "    print(\"Fold \",fold_no)\n",
    "    print(f\" Score тестовой:\",xtr.score(X_test, y_test))\n",
    "    print(\"Score обучающей:\",xtr.score(X_train, y_train))\n",
    "    print(\"MSE:\",mean_squared_error(y_test, xtr.predict(X_test)))\n",
    "    mse.append(mean_squared_error(y_test, xtr.predict(X_test)))\n",
    "    R2_m.append(r2_score(y_test, xtr.predict(X_test)))\n",
    "    fold_no += 1\n",
    "print()\n",
    "print(\"Crossval MSE:\",pd.Series(mse).mean())\n",
    "print(\"Crossval r2:\",pd.Series(R2_m).mean())"
   ]
  },
  {
   "cell_type": "markdown",
   "metadata": {},
   "source": [
    "# Проверка"
   ]
  },
  {
   "cell_type": "code",
   "execution_count": 83,
   "metadata": {
    "colab": {
     "base_uri": "https://localhost:8080/"
    },
    "id": "8W2IH_3j4Shv",
    "outputId": "a7a4d9ea-070d-47c5-a27d-5510d1cd886d"
   },
   "outputs": [
    {
     "name": "stdout",
     "output_type": "stream",
     "text": [
      "Done with Видео для теста.MOV! count = 163\n"
     ]
    }
   ],
   "source": [
    "test_frames = get_frames('Видео для теста.MOV')"
   ]
  },
  {
   "cell_type": "code",
   "execution_count": 84,
   "metadata": {},
   "outputs": [],
   "source": [
    "index_of_deleted1={}\n",
    "index_of_deleted2={}\n",
    "test_bodys,index_of_deleted1=get_photos_of_body(test_frames,index_of_deleted1,'test_frames')\n",
    "test_timeline,index_of_deleted2=make_timeline(test_bodys,index_of_deleted2,'test_bodys')"
   ]
  },
  {
   "cell_type": "code",
   "execution_count": 86,
   "metadata": {},
   "outputs": [
    {
     "data": {
      "text/plain": [
       "<matplotlib.image.AxesImage at 0x18d002da248>"
      ]
     },
     "execution_count": 86,
     "metadata": {},
     "output_type": "execute_result"
    },
    {
     "data": {
      "image/png": "[encoded data removed]",
      "text/plain": [
       "<Figure size 720x504 with 1 Axes>"
      ]
     },
     "metadata": {
      "needs_background": "light"
     },
     "output_type": "display_data"
    }
   ],
   "source": [
    "plt.figure(figsize=(10,7))\n",
    "plt.imshow(test_timeline[10])"
   ]
  },
  {
   "cell_type": "code",
   "execution_count": 108,
   "metadata": {
    "colab": {
     "base_uri": "https://localhost:8080/"
    },
    "id": "RxiVVocFYIcr",
    "outputId": "3ba6b85c-859c-4dde-8fa3-02452e1a6db1"
   },
   "outputs": [],
   "source": [
    "pred=[]\n",
    "for pic in test_timeline:\n",
    "    pred.append(xtr.predict(np.array(pic).reshape(1,-1))[0])"
   ]
  },
  {
   "cell_type": "code",
   "execution_count": 109,
   "metadata": {},
   "outputs": [
    {
     "name": "stdout",
     "output_type": "stream",
     "text": [
      "154\n"
     ]
    }
   ],
   "source": [
    "print(len(pred))"
   ]
  },
  {
   "cell_type": "code",
   "execution_count": 110,
   "metadata": {},
   "outputs": [],
   "source": [
    "for i in index_of_deleted1['test_frames']:\n",
    "    pred.insert(i, 'Лицо не найдено')\n",
    "for i in index_of_deleted2['test_bodys']:\n",
    "    pred.insert(i, 'Подождите...')"
   ]
  },
  {
   "cell_type": "code",
   "execution_count": 112,
   "metadata": {},
   "outputs": [],
   "source": [
    "pred_df=pd.DataFrame(pred)"
   ]
  },
  {
   "cell_type": "code",
   "execution_count": 113,
   "metadata": {},
   "outputs": [
    {
     "data": {
      "text/html": [
       "<div>\n",
       "<style scoped>\n",
       "    .dataframe tbody tr th:only-of-type {\n",
       "        vertical-align: middle;\n",
       "    }\n",
       "\n",
       "    .dataframe tbody tr th {\n",
       "        vertical-align: top;\n",
       "    }\n",
       "\n",
       "    .dataframe thead th {\n",
       "        text-align: right;\n",
       "    }\n",
       "</style>\n",
       "<table border=\"1\" class=\"dataframe\">\n",
       "  <thead>\n",
       "    <tr style=\"text-align: right;\">\n",
       "      <th></th>\n",
       "      <th>0</th>\n",
       "    </tr>\n",
       "  </thead>\n",
       "  <tbody>\n",
       "    <tr>\n",
       "      <th>0</th>\n",
       "      <td>Подождите...</td>\n",
       "    </tr>\n",
       "    <tr>\n",
       "      <th>1</th>\n",
       "      <td>Подождите...</td>\n",
       "    </tr>\n",
       "    <tr>\n",
       "      <th>2</th>\n",
       "      <td>Подождите...</td>\n",
       "    </tr>\n",
       "    <tr>\n",
       "      <th>3</th>\n",
       "      <td>Подождите...</td>\n",
       "    </tr>\n",
       "    <tr>\n",
       "      <th>4</th>\n",
       "      <td>Подождите...</td>\n",
       "    </tr>\n",
       "    <tr>\n",
       "      <th>5</th>\n",
       "      <td>Лицо не найдено</td>\n",
       "    </tr>\n",
       "    <tr>\n",
       "      <th>6</th>\n",
       "      <td>94.4812</td>\n",
       "    </tr>\n",
       "    <tr>\n",
       "      <th>7</th>\n",
       "      <td>93.1945</td>\n",
       "    </tr>\n",
       "    <tr>\n",
       "      <th>8</th>\n",
       "      <td>Лицо не найдено</td>\n",
       "    </tr>\n",
       "    <tr>\n",
       "      <th>9</th>\n",
       "      <td>Лицо не найдено</td>\n",
       "    </tr>\n",
       "    <tr>\n",
       "      <th>10</th>\n",
       "      <td>95.7745</td>\n",
       "    </tr>\n",
       "    <tr>\n",
       "      <th>11</th>\n",
       "      <td>95.128</td>\n",
       "    </tr>\n",
       "    <tr>\n",
       "      <th>12</th>\n",
       "      <td>92.0384</td>\n",
       "    </tr>\n",
       "    <tr>\n",
       "      <th>13</th>\n",
       "      <td>95.3289</td>\n",
       "    </tr>\n",
       "    <tr>\n",
       "      <th>14</th>\n",
       "      <td>90.8277</td>\n",
       "    </tr>\n",
       "    <tr>\n",
       "      <th>15</th>\n",
       "      <td>93.2528</td>\n",
       "    </tr>\n",
       "    <tr>\n",
       "      <th>16</th>\n",
       "      <td>93.7195</td>\n",
       "    </tr>\n",
       "    <tr>\n",
       "      <th>17</th>\n",
       "      <td>92.0688</td>\n",
       "    </tr>\n",
       "    <tr>\n",
       "      <th>18</th>\n",
       "      <td>91.8343</td>\n",
       "    </tr>\n",
       "    <tr>\n",
       "      <th>19</th>\n",
       "      <td>94.2106</td>\n",
       "    </tr>\n",
       "  </tbody>\n",
       "</table>\n",
       "</div>"
      ],
      "text/plain": [
       "                  0\n",
       "0      Подождите...\n",
       "1      Подождите...\n",
       "2      Подождите...\n",
       "3      Подождите...\n",
       "4      Подождите...\n",
       "5   Лицо не найдено\n",
       "6           94.4812\n",
       "7           93.1945\n",
       "8   Лицо не найдено\n",
       "9   Лицо не найдено\n",
       "10          95.7745\n",
       "11           95.128\n",
       "12          92.0384\n",
       "13          95.3289\n",
       "14          90.8277\n",
       "15          93.2528\n",
       "16          93.7195\n",
       "17          92.0688\n",
       "18          91.8343\n",
       "19          94.2106"
      ]
     },
     "execution_count": 113,
     "metadata": {},
     "output_type": "execute_result"
    }
   ],
   "source": [
    "pred_df.head(20)"
   ]
  },
  {
   "cell_type": "code",
   "execution_count": 174,
   "metadata": {},
   "outputs": [
    {
     "name": "stdout",
     "output_type": "stream",
     "text": [
      "Done with weightlifter.mov! count = 238\n"
     ]
    }
   ],
   "source": [
    "#Попробую предсказать пульс по началу этого видео с вейтлифтером https://www.youtube.com/watch?v=AOYPHjnlbXQ\n",
    "test_frames = get_frames('weightlifter.mov',frame_rate=1/5)"
   ]
  },
  {
   "cell_type": "code",
   "execution_count": 175,
   "metadata": {},
   "outputs": [],
   "source": [
    "index_of_deleted1={}\n",
    "index_of_deleted2={}\n",
    "test_bodys,index_of_deleted1=get_photos_of_body(test_frames,index_of_deleted1,'test_frames')\n",
    "test_timeline,index_of_deleted2=make_timeline(test_bodys,index_of_deleted2,'test_bodys')"
   ]
  },
  {
   "cell_type": "code",
   "execution_count": 176,
   "metadata": {},
   "outputs": [
    {
     "data": {
      "text/plain": [
       "<matplotlib.image.AxesImage at 0x18ea59b2048>"
      ]
     },
     "execution_count": 176,
     "metadata": {},
     "output_type": "execute_result"
    },
    {
     "data": {
      "image/png": "[encoded data removed]",
      "text/plain": [
       "<Figure size 720x504 with 1 Axes>"
      ]
     },
     "metadata": {
      "needs_background": "light"
     },
     "output_type": "display_data"
    }
   ],
   "source": [
    "plt.figure(figsize=(10,7))\n",
    "plt.imshow(test_timeline[10])"
   ]
  },
  {
   "cell_type": "code",
   "execution_count": 177,
   "metadata": {},
   "outputs": [],
   "source": [
    "pred=[]\n",
    "for pic in test_timeline:\n",
    "    pred.append(xtr.predict(np.array(pic).reshape(1,-1))[0])"
   ]
  },
  {
   "cell_type": "code",
   "execution_count": 178,
   "metadata": {},
   "outputs": [
    {
     "name": "stdout",
     "output_type": "stream",
     "text": [
      "107\n"
     ]
    }
   ],
   "source": [
    "print(len(pred))#человек на видео слишком часто двигается и не смотрит в камеру"
   ]
  },
  {
   "cell_type": "code",
   "execution_count": 179,
   "metadata": {},
   "outputs": [],
   "source": [
    "for i in index_of_deleted1['test_frames']:\n",
    "    pred.insert(i, 'Лицо не найдено')\n",
    "for i in index_of_deleted2['test_bodys']:\n",
    "    pred.insert(i, 'Подождите...')"
   ]
  },
  {
   "cell_type": "code",
   "execution_count": 180,
   "metadata": {},
   "outputs": [
    {
     "data": {
      "text/plain": [
       "['Подождите...',\n",
       " 'Подождите...',\n",
       " 107.80923035435495,\n",
       " 107.64946832716647,\n",
       " 108.30929248402377,\n",
       " 'Лицо не найдено',\n",
       " 'Лицо не найдено',\n",
       " 'Лицо не найдено',\n",
       " 'Лицо не найдено',\n",
       " 106.5601576038921,\n",
       " 107.14814243676861,\n",
       " 'Лицо не найдено',\n",
       " 'Лицо не найдено',\n",
       " 'Лицо не найдено',\n",
       " 'Лицо не найдено',\n",
       " 'Лицо не найдено',\n",
       " 106.90428875252718,\n",
       " 106.07761088578022,\n",
       " 'Лицо не найдено',\n",
       " 'Лицо не найдено',\n",
       " 'Лицо не найдено',\n",
       " 'Лицо не найдено',\n",
       " 'Лицо не найдено',\n",
       " 'Лицо не найдено',\n",
       " 'Лицо не найдено',\n",
       " 'Лицо не найдено',\n",
       " 'Лицо не найдено',\n",
       " 108.5682428722808,\n",
       " 105.96575044118038,\n",
       " 106.20101717169787,\n",
       " 105.62777437858625,\n",
       " 107.51349116937772,\n",
       " 105.88524082449199,\n",
       " 105.46791584404586,\n",
       " 106.76489842007837,\n",
       " 108.33836423608209,\n",
       " 109.4782846439336,\n",
       " 108.2322365647768,\n",
       " 104.81988112768724,\n",
       " 'Лицо не найдено',\n",
       " 'Лицо не найдено',\n",
       " 'Лицо не найдено',\n",
       " 'Лицо не найдено',\n",
       " 106.69132191557156,\n",
       " 'Лицо не найдено',\n",
       " 'Лицо не найдено',\n",
       " 108.74854492153872,\n",
       " 'Лицо не найдено',\n",
       " 'Лицо не найдено',\n",
       " 'Лицо не найдено',\n",
       " 'Лицо не найдено',\n",
       " 'Лицо не найдено',\n",
       " 107.715446444065,\n",
       " 108.7306221893902,\n",
       " 109.04584334696949,\n",
       " 'Лицо не найдено',\n",
       " 'Лицо не найдено',\n",
       " 'Лицо не найдено',\n",
       " 'Лицо не найдено',\n",
       " 'Лицо не найдено',\n",
       " 'Лицо не найдено',\n",
       " 'Лицо не найдено',\n",
       " 'Лицо не найдено',\n",
       " 'Лицо не найдено',\n",
       " 107.74367357064439,\n",
       " 107.03851881015233,\n",
       " 104.943521567313,\n",
       " 'Лицо не найдено',\n",
       " 'Лицо не найдено',\n",
       " 'Лицо не найдено',\n",
       " 'Лицо не найдено',\n",
       " 'Лицо не найдено',\n",
       " 106.43988305146001,\n",
       " 106.06053998207673,\n",
       " 'Лицо не найдено',\n",
       " 105.33519712872268,\n",
       " 105.68077023956434,\n",
       " 106.72991303858682,\n",
       " 104.3182422846332,\n",
       " 105.16887279322852,\n",
       " 108.35556896852717,\n",
       " 111.21752215078283,\n",
       " 109.91347771080376,\n",
       " 110.99696310513531,\n",
       " 109.99373937599208,\n",
       " 106.51173088664649,\n",
       " 'Лицо не найдено',\n",
       " 'Лицо не найдено',\n",
       " 'Лицо не найдено',\n",
       " 'Лицо не найдено',\n",
       " 103.96363713629852,\n",
       " 106.08095370749821,\n",
       " 107.786351014197,\n",
       " 108.24882964384044,\n",
       " 111.33887025845459,\n",
       " 'Лицо не найдено',\n",
       " 'Лицо не найдено',\n",
       " 'Лицо не найдено',\n",
       " 'Лицо не найдено',\n",
       " 111.33756352965061,\n",
       " 108.94370203738467,\n",
       " 109.71524960945766,\n",
       " 104.79236508086855,\n",
       " 'Лицо не найдено',\n",
       " 'Лицо не найдено',\n",
       " 'Лицо не найдено',\n",
       " 'Лицо не найдено',\n",
       " 'Лицо не найдено',\n",
       " 'Лицо не найдено',\n",
       " 105.59496836707319,\n",
       " 108.96714821203908,\n",
       " 111.27259832968888,\n",
       " 107.86634367954022,\n",
       " 109.48436588716577,\n",
       " 107.50325443001698,\n",
       " 'Лицо не найдено',\n",
       " 107.39012470589054,\n",
       " 105.55842006197926,\n",
       " 106.53293916697125,\n",
       " 107.83507956556235,\n",
       " 112.4198453131406,\n",
       " 110.15040423825147,\n",
       " 108.59095185360484,\n",
       " 108.68421555810676,\n",
       " 'Лицо не найдено',\n",
       " 'Лицо не найдено',\n",
       " 'Лицо не найдено',\n",
       " 'Лицо не найдено',\n",
       " 'Лицо не найдено',\n",
       " 'Лицо не найдено',\n",
       " 'Лицо не найдено',\n",
       " 110.1043915834767,\n",
       " 'Лицо не найдено',\n",
       " 'Лицо не найдено',\n",
       " 'Лицо не найдено',\n",
       " 'Лицо не найдено',\n",
       " 'Лицо не найдено',\n",
       " 111.87758729067632,\n",
       " 110.7005415559672,\n",
       " 110.69741453633503,\n",
       " 'Лицо не найдено',\n",
       " 107.8221742117102,\n",
       " 'Лицо не найдено',\n",
       " 'Лицо не найдено',\n",
       " 109.41654512199464,\n",
       " 'Лицо не найдено',\n",
       " 'Лицо не найдено',\n",
       " 109.32889953636622,\n",
       " 108.63914586305299,\n",
       " 109.59977206470857,\n",
       " 108.52460508810931,\n",
       " 108.21850521833684,\n",
       " 106.49131828835081,\n",
       " 105.85322955566102,\n",
       " 104.69322399733697,\n",
       " 104.92889944748882,\n",
       " 104.734717224569,\n",
       " 106.10444205282232,\n",
       " 106.80669596688789,\n",
       " 'Лицо не найдено',\n",
       " 'Лицо не найдено',\n",
       " 'Лицо не найдено',\n",
       " 'Лицо не найдено',\n",
       " 111.20615136858325,\n",
       " 108.61864145559464,\n",
       " 108.54641752549996,\n",
       " 105.67256142530486,\n",
       " 106.60387081855193,\n",
       " 110.4913538695137,\n",
       " 107.68686298733081,\n",
       " 109.95059712372246,\n",
       " 'Лицо не найдено',\n",
       " 'Лицо не найдено',\n",
       " 'Лицо не найдено',\n",
       " 'Лицо не найдено',\n",
       " 'Лицо не найдено',\n",
       " 'Лицо не найдено',\n",
       " 'Лицо не найдено',\n",
       " 'Лицо не найдено',\n",
       " 'Лицо не найдено',\n",
       " 109.05340054433007,\n",
       " 109.22612180891863,\n",
       " 107.72582118244951,\n",
       " 114.3608249968126,\n",
       " 110.5138518772679,\n",
       " 108.59079689923725,\n",
       " 106.81192708858329,\n",
       " 'Лицо не найдено',\n",
       " 105.91150704732574,\n",
       " 'Лицо не найдено',\n",
       " 'Лицо не найдено',\n",
       " 106.21748567836532,\n",
       " 'Лицо не найдено',\n",
       " 'Лицо не найдено',\n",
       " 'Лицо не найдено',\n",
       " 'Лицо не найдено',\n",
       " 'Лицо не найдено',\n",
       " 'Лицо не найдено',\n",
       " 'Лицо не найдено',\n",
       " 'Лицо не найдено',\n",
       " 'Лицо не найдено',\n",
       " 'Лицо не найдено',\n",
       " 'Лицо не найдено',\n",
       " 'Лицо не найдено',\n",
       " 'Лицо не найдено',\n",
       " 'Лицо не найдено',\n",
       " 'Лицо не найдено',\n",
       " 'Лицо не найдено',\n",
       " 'Лицо не найдено',\n",
       " 'Лицо не найдено',\n",
       " 'Лицо не найдено',\n",
       " 'Лицо не найдено',\n",
       " 'Лицо не найдено',\n",
       " 'Лицо не найдено',\n",
       " 'Лицо не найдено',\n",
       " 'Лицо не найдено',\n",
       " 'Лицо не найдено',\n",
       " 103.76219727627891,\n",
       " 99.55759745698056,\n",
       " 98.07346918386966,\n",
       " 100.85764877251513,\n",
       " 108.18836707423127,\n",
       " 105.81530282568924,\n",
       " 'Лицо не найдено',\n",
       " 109.87757015636582,\n",
       " 108.03777107472702,\n",
       " 'Лицо не найдено',\n",
       " 106.3141708718698,\n",
       " 'Лицо не найдено',\n",
       " 'Лицо не найдено',\n",
       " 'Лицо не найдено',\n",
       " 'Лицо не найдено',\n",
       " 'Лицо не найдено',\n",
       " 'Лицо не найдено',\n",
       " 'Лицо не найдено']"
      ]
     },
     "execution_count": 180,
     "metadata": {},
     "output_type": "execute_result"
    }
   ],
   "source": [
    "pred[3:len(pred)]"
   ]
  },
  {
   "cell_type": "code",
   "execution_count": null,
   "metadata": {},
   "outputs": [],
   "source": []
  }
 ],
 "metadata": {
  "colab": {
   "collapsed_sections": [],
   "name": "Untitled24.ipynb",
   "provenance": []
  },
  "kernelspec": {
   "display_name": "Python 3",
   "language": "python",
   "name": "python3"
  },
  "language_info": {
   "codemirror_mode": {
    "name": "ipython",
    "version": 3
   },
   "file_extension": ".py",
   "mimetype": "text/x-python",
   "name": "python",
   "nbconvert_exporter": "python",
   "pygments_lexer": "ipython3",
   "version": "3.7.6"
  }
 },
 "nbformat": 4,
 "nbformat_minor": 1
}
